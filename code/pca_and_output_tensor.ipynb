{
 "cells": [
  {
   "cell_type": "markdown",
   "metadata": {},
   "source": [
    "# PCA and output the tensor"
   ]
  },
  {
   "cell_type": "code",
   "execution_count": 10,
   "metadata": {},
   "outputs": [],
   "source": [
    "from sklearn.decomposition import PCA \n",
    "import pickle\n",
    "from tqdm import tqdm\n",
    "import os"
   ]
  },
  {
   "cell_type": "code",
   "execution_count": 17,
   "metadata": {},
   "outputs": [],
   "source": [
    "import numpy as np"
   ]
  },
  {
   "cell_type": "code",
   "execution_count": 11,
   "metadata": {},
   "outputs": [],
   "source": [
    "pickle_file='../data/src_data_NEW_small_0428/train_ref.txtemb.pkl'\n",
    "n_components=384\n",
    "tensor_file='../../S3CMTF_code/src_data_NEW_0429_PCA_dim_384/aug_rand_model_19.s3cmtf_train.tensor'\n",
    "\n",
    "\n",
    "\n",
    "\n",
    "def pca_pairs(pickle_file,n_components):\n",
    "    # 1. read the pickle file\n",
    "    print('# 1. read the pickle file')\n",
    "    with open(pickle_file, \"rb\") as f:\n",
    "        pairs = pickle.load(f)\n",
    "\n",
    "    # 2. build the all_embeddings_nparray\n",
    "    print('# 2. build the all_embeddings_nparray')\n",
    "    all_embeddings=[]\n",
    "    for pair in pairs:\n",
    "        all_embeddings.append(pair['res_emb'])\n",
    "    all_embeddings_nparray=np.array(all_embeddings)\n",
    "\n",
    "    # 3. PCA\n",
    "    print('# 3. PCA')\n",
    "    pca=PCA(n_components=n_components)\n",
    "    pca_all_embeddings_nparray = pca.fit_transform(all_embeddings_nparray)\n",
    "    print('var %:',np.sum(pca.explained_variance_ratio_))\n",
    "\n",
    "    # 4. get the new emb\n",
    "    print('# 4. get the new emb')\n",
    "    for pair in pairs:\n",
    "        pair['pca_res_emb']=pca_all_embeddings_nparray[pair['res_emb_idx']]\n",
    "    \n",
    "    return pairs"
   ]
  },
  {
   "cell_type": "code",
   "execution_count": 12,
   "metadata": {},
   "outputs": [],
   "source": [
    "def pca_pairs_two_file(pickle_file,pickle_file_2,n_components):\n",
    "    # 1. read the pickle file\n",
    "    print('# 1. read the pickle file')\n",
    "    with open(pickle_file, \"rb\") as f:\n",
    "        pairs = pickle.load(f)\n",
    "\n",
    "    # 2. build the all_embeddings_nparray\n",
    "    print('# 2. build the all_embeddings_nparray')\n",
    "    all_embeddings=[]\n",
    "    for pair in pairs:\n",
    "        all_embeddings.append(pair['res_emb'])\n",
    "    all_embeddings_nparray=np.array(all_embeddings)\n",
    "\n",
    "    # 1. read the pickle file\n",
    "    print('# 1. read the pickle file')\n",
    "    with open(pickle_file_2, \"rb\") as f:\n",
    "        pairs_2 = pickle.load(f)\n",
    "\n",
    "    # 2. build the all_embeddings_nparray\n",
    "    print('# 2. build the all_embeddings_nparray')\n",
    "    all_embeddings_2=[]\n",
    "    for pair in pairs_2:\n",
    "        all_embeddings_2.append(pair['res_emb'])\n",
    "    all_embeddings_nparray_2=np.array(all_embeddings_2)\n",
    "\n",
    "    # 3. PCA\n",
    "    all_embeddings_nparray_both=np.concatenate((all_embeddings_nparray, all_embeddings_nparray_2), axis=0)\n",
    "    print('# 3. PCA')\n",
    "    pca=PCA(n_components=n_components)\n",
    "    pca_all_embeddings_nparray = pca.fit_transform(all_embeddings_nparray_both)\n",
    "    print('var %:',np.sum(pca.explained_variance_ratio_))\n",
    "\n",
    "    # 4. get the new emb\n",
    "    print('# 4. get the new emb')\n",
    "    for pair in pairs:\n",
    "        pair['pca_res_emb']=pca_all_embeddings_nparray[pair['res_emb_idx']]\n",
    "    print('# 4. get the new emb')\n",
    "    for pair in pairs_2:\n",
    "        pair['pca_res_emb']=pca_all_embeddings_nparray[pair['res_emb_idx']+all_embeddings_nparray.shape[0]]\n",
    "    \n",
    "    \n",
    "    return pairs+pairs_2"
   ]
  },
  {
   "cell_type": "code",
   "execution_count": 13,
   "metadata": {},
   "outputs": [],
   "source": [
    "def pca_pairs_three_file(pickle_file,pickle_file_2,pickle_file_3,n_components):\n",
    "    # 1. read the pickle file\n",
    "    print('# 1. read the pickle file')\n",
    "    with open(pickle_file, \"rb\") as f:\n",
    "        pairs = pickle.load(f)\n",
    "\n",
    "    # 2. build the all_embeddings_nparray\n",
    "    print('# 2. build the all_embeddings_nparray')\n",
    "    all_embeddings=[]\n",
    "    for pair in pairs:\n",
    "        all_embeddings.append(pair['res_emb'])\n",
    "    all_embeddings_nparray=np.array(all_embeddings)\n",
    "\n",
    "    # 1. read the pickle file\n",
    "    print('# 1. read the pickle file')\n",
    "    with open(pickle_file_2, \"rb\") as f:\n",
    "        pairs_2 = pickle.load(f)\n",
    "\n",
    "    # 2. build the all_embeddings_nparray\n",
    "    print('# 2. build the all_embeddings_nparray')\n",
    "    all_embeddings_2=[]\n",
    "    for pair in pairs_2:\n",
    "        all_embeddings_2.append(pair['res_emb'])\n",
    "    all_embeddings_nparray_2=np.array(all_embeddings_2)\n",
    "    # 1. read the pickle file\n",
    "    print('# 1. read the pickle file')\n",
    "    with open(pickle_file_3, \"rb\") as f:\n",
    "        pairs_3 = pickle.load(f)\n",
    "\n",
    "    # 2. build the all_embeddings_nparray\n",
    "    print('# 2. build the all_embeddings_nparray')\n",
    "    all_embeddings_3=[]\n",
    "    for pair in pairs_3:\n",
    "        all_embeddings_3.append(pair['res_emb'])\n",
    "    all_embeddings_nparray_3=np.array(all_embeddings_3)\n",
    "\n",
    "    # 3. PCA\n",
    "    all_embeddings_nparray_both=np.concatenate((all_embeddings_nparray, all_embeddings_nparray_2,all_embeddings_nparray_3), axis=0)\n",
    "    print('# 3. PCA')\n",
    "    pca=PCA(n_components=n_components)\n",
    "    pca_all_embeddings_nparray = pca.fit_transform(all_embeddings_nparray_both)\n",
    "    print('var %:',np.sum(pca.explained_variance_ratio_))\n",
    "\n",
    "    # 4. get the new emb\n",
    "    print('# 4. get the new emb')\n",
    "    for pair in pairs:\n",
    "        pair['pca_res_emb']=pca_all_embeddings_nparray[pair['res_emb_idx']]\n",
    "    print('# 4. get the new emb')\n",
    "    for pair in pairs_2:\n",
    "        pair['pca_res_emb']=pca_all_embeddings_nparray[pair['res_emb_idx']+all_embeddings_nparray.shape[0]]\n",
    "    \n",
    "    print('# 4. get the new emb')\n",
    "    for pair in pairs_3:\n",
    "        pair['pca_res_emb']=pca_all_embeddings_nparray[pair['res_emb_idx']+all_embeddings_nparray.shape[0]+all_embeddings_nparray_2.shape[0]]\n",
    "    \n",
    "    \n",
    "    return pairs,pairs_2,pairs_3"
   ]
  },
  {
   "cell_type": "code",
   "execution_count": 23,
   "metadata": {},
   "outputs": [],
   "source": [
    "def output_tensor(pairs,tensor_file):\n",
    "    # 5. output the tensor.\n",
    "    num_entries=0\n",
    "    max_context_id=0\n",
    "    max_user_id=0\n",
    "    with open(tensor_file,'w') as fout:\n",
    "        for pair in tqdm(pairs):\n",
    "            context_tensor_id = pair['cid']\n",
    "            if context_tensor_id > max_context_id:\n",
    "                max_context_id=context_tensor_id\n",
    "            \n",
    "            user_idx = pair['pid']\n",
    "            if user_idx>max_user_id:\n",
    "                max_user_id=user_idx\n",
    "            emb=pair['pca_res_emb']\n",
    "            emb_dim=len(emb)\n",
    "            for k in range(emb_dim):\n",
    "                value = emb[k]\n",
    "                fout.write('{}\\t{}\\t{}\\t{}\\n'.format(int(context_tensor_id),\n",
    "                                                     int(user_idx),k+1,value))\n",
    "                num_entries+=1    \n",
    "    # 6. output the statistics of the tensor\n",
    "    print('finished tensor at',tensor_file)\n",
    "    print('tensor shape,',max_context_id,max_user_id,emb_dim,'num entries:',num_entries)\n",
    "    return max_context_id,max_user_id,emb_dim,num_entries"
   ]
  },
  {
   "cell_type": "code",
   "execution_count": 31,
   "metadata": {},
   "outputs": [],
   "source": [
    "\n",
    "def output_a_dir(pairs,pairs_2,pairs_3,base_dir,dim1,dim2,dim3,num_thread,user_feature_line,context_feature_line):\n",
    "    # output tensor\n",
    "    tensor_file=os.path.join(base_dir,'s3cmtf_train.tensor')\n",
    "    max_context_id,max_user_id,emb_dim,train_num_entries = output_tensor(pairs+pairs_2,tensor_file)\n",
    "\n",
    "    tensor_file=os.path.join(base_dir,'s3cmtf_dev.tensor')\n",
    "    _,_,_,dev_num_entries=output_tensor(pairs_3,tensor_file)\n",
    "\n",
    "    # build the config file\n",
    "    config_fing=os.path.join(base_dir,'s3cmtf_config.txt')\n",
    "    with open(config_fing,'w') as fout:\n",
    "        fout.write('3\\n')\n",
    "        fout.write('{} {} {}\\n'.format(max_context_id,max_user_id,emb_dim))\n",
    "        fout.write('{} {} {}\\n'.format(dim1,dim2,dim3))\n",
    "        fout.write('{}\\n'.format(num_thread))\n",
    "        fout.write('{}\\n'.format(train_num_entries))\n",
    "        fout.write('{}\\n'.format(dev_num_entries))\n",
    "        fout.write(user_feature_line)\n",
    "        fout.write(context_feature_line)\n",
    "    print('save config file at',config_fing)\n",
    "    print('base dir: ',base_dir)\n"
   ]
  },
  {
   "cell_type": "code",
   "execution_count": 30,
   "metadata": {},
   "outputs": [
    {
     "name": "stdout",
     "output_type": "stream",
     "text": [
      "# 1. read the pickle file\n",
      "# 2. build the all_embeddings_nparray\n",
      "# 1. read the pickle file\n",
      "# 2. build the all_embeddings_nparray\n",
      "# 3. PCA\n",
      "var %: 0.96534324284166\n",
      "# 4. get the new emb\n",
      "# 4. get the new emb\n"
     ]
    },
    {
     "name": "stderr",
     "output_type": "stream",
     "text": [
      "100%|██████████| 1742560/1742560 [13:08<00:00, 2208.76it/s]\n"
     ]
    },
    {
     "name": "stdout",
     "output_type": "stream",
     "text": [
      "finished tensor at ../../S3CMTF_code/src_data_NEW_0429_PCA_dim_384/aug_rand_model_19.s3cmtf_train.tensor\n",
      "tensor shape, 376443 5185 280 num entries: 487916800\n"
     ]
    }
   ],
   "source": [
    "\n",
    "pickle_file='../../S3CMTF_code/src_data_NEW_0429_PCA_dim_384/train_ref.txt.emb.pkl'\n",
    "pickle_file_2='../../S3CMTF_code/src_data_NEW_0429_PCA_dim_384/aug_augmentation_ref_0.00045.txt.emb.pkl'\n",
    "n_components=280\n",
    "pairs=pca_pairs_two_file(pickle_file,pickle_file_2,n_components)\n",
    "\n",
    "\n",
    "tensor_file='../../S3CMTF_code/src_data_NEW_0429_PCA_dim_384/aug_rand_model_19.s3cmtf_train.tensor'\n",
    "output_tensor(pairs,tensor_file)"
   ]
  },
  {
   "cell_type": "code",
   "execution_count": 41,
   "metadata": {},
   "outputs": [
    {
     "name": "stdout",
     "output_type": "stream",
     "text": [
      "# 1. read the pickle file\n",
      "# 2. build the all_embeddings_nparray\n",
      "# 1. read the pickle file\n",
      "# 2. build the all_embeddings_nparray\n",
      "# 1. read the pickle file\n",
      "# 2. build the all_embeddings_nparray\n",
      "# 3. PCA\n",
      "var %: 0.9653652504763401\n",
      "# 4. get the new emb\n",
      "# 4. get the new emb\n",
      "# 4. get the new emb\n"
     ]
    }
   ],
   "source": [
    "\n",
    "pickle_file='../../S3CMTF_code/src_data_NEW_0429_PCA_dim_384/train_ref.txt.emb.pkl'\n",
    "pickle_file_2='../../S3CMTF_code/src_data_NEW_0429_PCA_dim_384/aug_augmentation_ref_0.00045.txt.emb.pkl'\n",
    "pickle_file_3='../../S3CMTF_code/src_data_NEW_0429_PCA_dim_384/val_ref.txt.emb.pkl'\n",
    "n_components=280\n",
    "pairs,pairs_2,pairs_3=pca_pairs_three_file(pickle_file,pickle_file_2,pickle_file_3,n_components)\n",
    "\n"
   ]
  },
  {
   "cell_type": "code",
   "execution_count": 42,
   "metadata": {},
   "outputs": [
    {
     "data": {
      "text/plain": [
       "5185"
      ]
     },
     "execution_count": 42,
     "metadata": {},
     "output_type": "execute_result"
    }
   ],
   "source": [
    "len(pairs_3)"
   ]
  },
  {
   "cell_type": "code",
   "execution_count": 43,
   "metadata": {},
   "outputs": [
    {
     "name": "stderr",
     "output_type": "stream",
     "text": [
      "100%|██████████| 1742560/1742560 [14:31<00:00, 1999.94it/s]\n"
     ]
    },
    {
     "name": "stdout",
     "output_type": "stream",
     "text": [
      "finished tensor at ../../S3CMTF_code/src_data_NEW_0429_PCA_dim_384/aug_rand_model_19.s3cmtf_train.tensor\n",
      "tensor shape, 376443 5185 280 num entries: 487916800\n"
     ]
    }
   ],
   "source": [
    "tensor_file='../../S3CMTF_code/src_data_NEW_0429_PCA_dim_384/aug_rand_model_19.s3cmtf_train.tensor'\n",
    "output_tensor(pairs+pairs_2,tensor_file)"
   ]
  },
  {
   "cell_type": "code",
   "execution_count": 44,
   "metadata": {},
   "outputs": [
    {
     "name": "stderr",
     "output_type": "stream",
     "text": [
      "100%|██████████| 5185/5185 [00:02<00:00, 2270.94it/s]"
     ]
    },
    {
     "name": "stdout",
     "output_type": "stream",
     "text": [
      "finished tensor at ../../S3CMTF_code/src_data_NEW_0429_PCA_dim_384/aug_rand_model_19.s3cmtf_dev.tensor\n",
      "tensor shape, 376400 5185 280 num entries: 1451800\n"
     ]
    },
    {
     "name": "stderr",
     "output_type": "stream",
     "text": [
      "\n"
     ]
    }
   ],
   "source": [
    "tensor_file='../../S3CMTF_code/src_data_NEW_0429_PCA_dim_384/aug_rand_model_19.s3cmtf_dev.tensor'\n",
    "output_tensor(pairs_3,tensor_file)"
   ]
  },
  {
   "cell_type": "code",
   "execution_count": 29,
   "metadata": {},
   "outputs": [
    {
     "data": {
      "text/plain": [
       "286.9341658249931"
      ]
     },
     "execution_count": 29,
     "metadata": {},
     "output_type": "execute_result"
    }
   ],
   "source": [
    "500000000/1742560"
   ]
  },
  {
   "cell_type": "code",
   "execution_count": null,
   "metadata": {},
   "outputs": [],
   "source": [
    "# there is still a problem here. "
   ]
  },
  {
   "cell_type": "code",
   "execution_count": null,
   "metadata": {},
   "outputs": [],
   "source": []
  },
  {
   "cell_type": "markdown",
   "metadata": {},
   "source": [
    "# 200K dataaset"
   ]
  },
  {
   "cell_type": "code",
   "execution_count": 29,
   "metadata": {},
   "outputs": [
    {
     "name": "stdout",
     "output_type": "stream",
     "text": [
      "# 1. read the pickle file\n",
      "# 2. build the all_embeddings_nparray\n",
      "# 1. read the pickle file\n",
      "# 2. build the all_embeddings_nparray\n",
      "# 1. read the pickle file\n",
      "# 2. build the all_embeddings_nparray\n",
      "# 3. PCA\n"
     ]
    },
    {
     "name": "stderr",
     "output_type": "stream",
     "text": [
      "  0%|          | 0/356048 [00:00<?, ?it/s]"
     ]
    },
    {
     "name": "stdout",
     "output_type": "stream",
     "text": [
      "var %: 0.9563737821021712\n",
      "# 4. get the new emb\n",
      "# 4. get the new emb\n",
      "# 4. get the new emb\n"
     ]
    },
    {
     "name": "stderr",
     "output_type": "stream",
     "text": [
      "100%|██████████| 356048/356048 [02:13<00:00, 2668.56it/s]\n",
      "  6%|▌         | 260/4724 [00:00<00:01, 2599.05it/s]"
     ]
    },
    {
     "name": "stdout",
     "output_type": "stream",
     "text": [
      "finished tensor at ../../S3CMTF_code/src_data_200K_May_12/emb-pkl-files/speaker+question_TF_40_model_8_round_1/x1/s3cmtf_train.tensor\n",
      "tensor shape, 39187 4724 240 num entries: 85451520\n"
     ]
    },
    {
     "name": "stderr",
     "output_type": "stream",
     "text": [
      "100%|██████████| 4724/4724 [00:01<00:00, 2658.98it/s]"
     ]
    },
    {
     "name": "stdout",
     "output_type": "stream",
     "text": [
      "finished tensor at ../../S3CMTF_code/src_data_200K_May_12/emb-pkl-files/speaker+question_TF_40_model_8_round_1/x1/s3cmtf_dev.tensor\n",
      "tensor shape, 39157 4724 240 num entries: 1133760\n",
      "save config file at ../../S3CMTF_code/src_data_200K_May_12/emb-pkl-files/speaker+question_TF_40_model_8_round_1/x1/s3cmtf_train.tensor\n",
      "base dir:  ../../S3CMTF_code/src_data_200K_May_12/emb-pkl-files/speaker+question_TF_40_model_8_round_1/x1\n"
     ]
    },
    {
     "name": "stderr",
     "output_type": "stream",
     "text": [
      "\n"
     ]
    }
   ],
   "source": [
    "base_dir='../../S3CMTF_code/src_data_200K_May_12/emb-pkl-files/speaker+question_TF_40_model_8_round_1/x1'\n",
    "aug_file='aug_speaker+question_TF_40_model_8_round_1_x1_augmentation_ref_0.001.txt.emb.pkl'\n",
    "\n",
    "n_components=240\n",
    "dim1,dim2,dim3=30,30,30\n",
    "num_thread=36\n",
    "user_feature_line='1 ../../../../src_data_200K_May_12/s3cmtf_user_feature_onehot.mat 9041 42709684\\n'\n",
    "context_feature_line='2 ../../../../src_data_200K_May_12/s3cmtf_context_emb.mat 768 30095616\\n'\n",
    "pickle_file='../../S3CMTF_code/src_data_200K_May_12/train_ref.txt.emb.pkl'\n",
    "pickle_file_2=os.path.join(base_dir,aug_file)\n",
    "pickle_file_3='../../S3CMTF_code/src_data_200K_May_12/val_ref.txt.emb.pkl'\n",
    "\n",
    "pairs,pairs_2,pairs_3=pca_pairs_three_file(pickle_file,pickle_file_2,pickle_file_3,n_components)\n",
    "\n",
    "\n",
    "output_a_dir(pairs,pairs_2,pairs_3,base_dir,dim1,dim2,dim3,num_thread,user_feature_line,context_feature_line)\n",
    "# ./S3CMTF-opt s3cmtf_config.txt  s3cmtf_train.tensor s3cmtf_dev.tensor 30x30x30_0.0005_1_4 2 0.0005 1 4 100"
   ]
  },
  {
   "cell_type": "code",
   "execution_count": 30,
   "metadata": {},
   "outputs": [
    {
     "name": "stdout",
     "output_type": "stream",
     "text": [
      "# 1. read the pickle file\n",
      "# 2. build the all_embeddings_nparray\n",
      "# 1. read the pickle file\n",
      "# 2. build the all_embeddings_nparray\n",
      "# 1. read the pickle file\n",
      "# 2. build the all_embeddings_nparray\n",
      "# 3. PCA\n",
      "var %: 0.9575900674610852\n",
      "# 4. get the new emb\n",
      "# 4. get the new emb\n",
      "# 4. get the new emb\n"
     ]
    },
    {
     "name": "stderr",
     "output_type": "stream",
     "text": [
      "100%|██████████| 540284/540284 [03:31<00:00, 2559.53it/s]\n",
      "  5%|▌         | 252/4724 [00:00<00:01, 2512.72it/s]"
     ]
    },
    {
     "name": "stdout",
     "output_type": "stream",
     "text": [
      "finished tensor at ../../S3CMTF_code/src_data_200K_May_12/emb-pkl-files/speaker+question_TF_40_model_8_round_1/x2/s3cmtf_train.tensor\n",
      "tensor shape, 39187 4724 240 num entries: 129668160\n"
     ]
    },
    {
     "name": "stderr",
     "output_type": "stream",
     "text": [
      "100%|██████████| 4724/4724 [00:01<00:00, 2522.11it/s]"
     ]
    },
    {
     "name": "stdout",
     "output_type": "stream",
     "text": [
      "finished tensor at ../../S3CMTF_code/src_data_200K_May_12/emb-pkl-files/speaker+question_TF_40_model_8_round_1/x2/s3cmtf_dev.tensor\n",
      "tensor shape, 39157 4724 240 num entries: 1133760\n",
      "save config file at ../../S3CMTF_code/src_data_200K_May_12/emb-pkl-files/speaker+question_TF_40_model_8_round_1/x2/s3cmtf_train.tensor\n",
      "base dir:  ../../S3CMTF_code/src_data_200K_May_12/emb-pkl-files/speaker+question_TF_40_model_8_round_1/x2\n"
     ]
    },
    {
     "name": "stderr",
     "output_type": "stream",
     "text": [
      "\n"
     ]
    }
   ],
   "source": [
    "base_dir='../../S3CMTF_code/src_data_200K_May_12/emb-pkl-files/speaker+question_TF_40_model_8_round_1/x2'\n",
    "aug_file='aug_speaker+question_TF_40_model_8_round_1_x2_augmentation_ref_0.002.txt.emb.pkl'\n",
    "\n",
    "n_components=240\n",
    "dim1,dim2,dim3=30,30,30\n",
    "num_thread=36\n",
    "user_feature_line='1 ../../../../src_data_200K_May_12/s3cmtf_user_feature_onehot.mat 9041 42709684\\n'\n",
    "context_feature_line='2 ../../../../src_data_200K_May_12/s3cmtf_context_emb.mat 768 30095616\\n'\n",
    "pickle_file='../../S3CMTF_code/src_data_200K_May_12/train_ref.txt.emb.pkl'\n",
    "pickle_file_2=os.path.join(base_dir,aug_file)\n",
    "pickle_file_3='../../S3CMTF_code/src_data_200K_May_12/val_ref.txt.emb.pkl'\n",
    "\n",
    "pairs,pairs_2,pairs_3=pca_pairs_three_file(pickle_file,pickle_file_2,pickle_file_3,n_components)\n",
    "\n",
    "\n",
    "output_a_dir(pairs,pairs_2,pairs_3,base_dir,dim1,dim2,dim3,num_thread,user_feature_line,context_feature_line)\n",
    "# ./S3CMTF-opt s3cmtf_config.txt  s3cmtf_train.tensor s3cmtf_dev.tensor 30x30x30_0.0005_1_4 2 0.0005 1 4 100"
   ]
  },
  {
   "cell_type": "code",
   "execution_count": 32,
   "metadata": {},
   "outputs": [
    {
     "name": "stdout",
     "output_type": "stream",
     "text": [
      "# 1. read the pickle file\n",
      "# 2. build the all_embeddings_nparray\n",
      "# 1. read the pickle file\n",
      "# 2. build the all_embeddings_nparray\n",
      "# 1. read the pickle file\n",
      "# 2. build the all_embeddings_nparray\n",
      "# 3. PCA\n",
      "var %: 0.9592585953188324\n",
      "# 4. get the new emb\n",
      "# 4. get the new emb\n",
      "# 4. get the new emb\n"
     ]
    },
    {
     "name": "stderr",
     "output_type": "stream",
     "text": [
      "100%|██████████| 1097716/1097716 [12:43<00:00, 1436.98it/s]\n",
      "  5%|▌         | 250/4724 [00:00<00:01, 2498.66it/s]"
     ]
    },
    {
     "name": "stdout",
     "output_type": "stream",
     "text": [
      "finished tensor at ../../S3CMTF_code/src_data_200K_May_12/emb-pkl-files/speaker+question_TF_40_model_8_round_1/x5/s3cmtf_train.tensor\n",
      "tensor shape, 39187 4724 240 num entries: 263451840\n"
     ]
    },
    {
     "name": "stderr",
     "output_type": "stream",
     "text": [
      "100%|██████████| 4724/4724 [00:02<00:00, 1639.91it/s]"
     ]
    },
    {
     "name": "stdout",
     "output_type": "stream",
     "text": [
      "finished tensor at ../../S3CMTF_code/src_data_200K_May_12/emb-pkl-files/speaker+question_TF_40_model_8_round_1/x5/s3cmtf_dev.tensor\n",
      "tensor shape, 39157 4724 240 num entries: 1133760\n",
      "save config file at ../../S3CMTF_code/src_data_200K_May_12/emb-pkl-files/speaker+question_TF_40_model_8_round_1/x5/s3cmtf_config.txt\n",
      "base dir:  ../../S3CMTF_code/src_data_200K_May_12/emb-pkl-files/speaker+question_TF_40_model_8_round_1/x5\n"
     ]
    },
    {
     "name": "stderr",
     "output_type": "stream",
     "text": [
      "\n"
     ]
    }
   ],
   "source": [
    "base_dir='../../S3CMTF_code/src_data_200K_May_12/emb-pkl-files/speaker+question_TF_40_model_8_round_1/x5'\n",
    "aug_file='aug_speaker+question_TF_40_model_8_round_1_x5_augmentation_ref_0.005.txt.emb.pkl'\n",
    "\n",
    "n_components=240\n",
    "dim1,dim2,dim3=30,30,30\n",
    "num_thread=36\n",
    "user_feature_line='1 ../../../../src_data_200K_May_12/s3cmtf_user_feature_onehot.mat 9041 42709684\\n'\n",
    "context_feature_line='2 ../../../../src_data_200K_May_12/s3cmtf_context_emb.mat 768 30095616\\n'\n",
    "pickle_file='../../S3CMTF_code/src_data_200K_May_12/train_ref.txt.emb.pkl'\n",
    "pickle_file_2=os.path.join(base_dir,aug_file)\n",
    "pickle_file_3='../../S3CMTF_code/src_data_200K_May_12/val_ref.txt.emb.pkl'\n",
    "\n",
    "pairs,pairs_2,pairs_3=pca_pairs_three_file(pickle_file,pickle_file_2,pickle_file_3,n_components)\n",
    "\n",
    "\n",
    "output_a_dir(pairs,pairs_2,pairs_3,base_dir,dim1,dim2,dim3,num_thread,user_feature_line,context_feature_line)\n",
    "# ./S3CMTF-opt s3cmtf_config.txt  s3cmtf_train.tensor s3cmtf_dev.tensor 30x30x30_0.0005_1_4 2 0.0005 1 4 100"
   ]
  },
  {
   "cell_type": "code",
   "execution_count": 33,
   "metadata": {},
   "outputs": [
    {
     "name": "stdout",
     "output_type": "stream",
     "text": [
      "# 1. read the pickle file\n",
      "# 2. build the all_embeddings_nparray\n",
      "# 1. read the pickle file\n",
      "# 2. build the all_embeddings_nparray\n",
      "# 1. read the pickle file\n",
      "# 2. build the all_embeddings_nparray\n",
      "# 3. PCA\n",
      "var %: 0.9607122996355475\n",
      "# 4. get the new emb\n",
      "# 4. get the new emb\n",
      "# 4. get the new emb\n"
     ]
    },
    {
     "name": "stderr",
     "output_type": "stream",
     "text": [
      "100%|██████████| 2023620/2023620 [24:02<00:00, 1402.41it/s]\n"
     ]
    },
    {
     "name": "stdout",
     "output_type": "stream",
     "text": [
      "finished tensor at ../../S3CMTF_code/src_data_200K_May_12/emb-pkl-files/speaker+question_TF_40_model_8_round_1/x10/s3cmtf_train.tensor\n",
      "tensor shape, 39187 4724 240 num entries: 485668800\n"
     ]
    },
    {
     "name": "stderr",
     "output_type": "stream",
     "text": [
      "100%|██████████| 4724/4724 [00:03<00:00, 1440.78it/s]"
     ]
    },
    {
     "name": "stdout",
     "output_type": "stream",
     "text": [
      "finished tensor at ../../S3CMTF_code/src_data_200K_May_12/emb-pkl-files/speaker+question_TF_40_model_8_round_1/x10/s3cmtf_dev.tensor\n",
      "tensor shape, 39157 4724 240 num entries: 1133760\n",
      "save config file at ../../S3CMTF_code/src_data_200K_May_12/emb-pkl-files/speaker+question_TF_40_model_8_round_1/x10/s3cmtf_config.txt\n",
      "base dir:  ../../S3CMTF_code/src_data_200K_May_12/emb-pkl-files/speaker+question_TF_40_model_8_round_1/x10\n"
     ]
    },
    {
     "name": "stderr",
     "output_type": "stream",
     "text": [
      "\n"
     ]
    }
   ],
   "source": [
    "base_dir='../../S3CMTF_code/src_data_200K_May_12/emb-pkl-files/speaker+question_TF_40_model_8_round_1/x10'\n",
    "aug_file='aug_speaker+question_TF_40_model_8_round_1_x10_augmentation_ref_0.01.txt.emb.pkl'\n",
    "\n",
    "n_components=240\n",
    "dim1,dim2,dim3=30,30,30\n",
    "num_thread=36\n",
    "user_feature_line='1 ../../../../src_data_200K_May_12/s3cmtf_user_feature_onehot.mat 9041 42709684\\n'\n",
    "context_feature_line='2 ../../../../src_data_200K_May_12/s3cmtf_context_emb.mat 768 30095616\\n'\n",
    "pickle_file='../../S3CMTF_code/src_data_200K_May_12/train_ref.txt.emb.pkl'\n",
    "pickle_file_2=os.path.join(base_dir,aug_file)\n",
    "pickle_file_3='../../S3CMTF_code/src_data_200K_May_12/val_ref.txt.emb.pkl'\n",
    "\n",
    "pairs,pairs_2,pairs_3=pca_pairs_three_file(pickle_file,pickle_file_2,pickle_file_3,n_components)\n",
    "\n",
    "\n",
    "output_a_dir(pairs,pairs_2,pairs_3,base_dir,dim1,dim2,dim3,num_thread,user_feature_line,context_feature_line)\n",
    "# ./S3CMTF-opt s3cmtf_config.txt  s3cmtf_train.tensor s3cmtf_dev.tensor 30x30x30_0.0005_1_4 2 0.0005 1 4 100"
   ]
  },
  {
   "cell_type": "code",
   "execution_count": 34,
   "metadata": {},
   "outputs": [
    {
     "name": "stdout",
     "output_type": "stream",
     "text": [
      "# 1. read the pickle file\n",
      "# 2. build the all_embeddings_nparray\n",
      "# 1. read the pickle file\n",
      "# 2. build the all_embeddings_nparray\n",
      "# 1. read the pickle file\n",
      "# 2. build the all_embeddings_nparray\n",
      "# 3. PCA\n",
      "var %: 0.9550656707261022\n",
      "# 4. get the new emb\n",
      "# 4. get the new emb\n",
      "# 4. get the new emb\n"
     ]
    },
    {
     "name": "stderr",
     "output_type": "stream",
     "text": [
      "100%|██████████| 356048/356048 [04:08<00:00, 1432.97it/s]\n",
      "  3%|▎         | 152/4724 [00:00<00:03, 1516.29it/s]"
     ]
    },
    {
     "name": "stdout",
     "output_type": "stream",
     "text": [
      "finished tensor at ../../S3CMTF_code/src_data_200K_May_12/emb-pkl-files/speaker+question_TF_40_model_8_round_2/x1/only_on_real_data/s3cmtf_train.tensor\n",
      "tensor shape, 39187 4724 240 num entries: 85451520\n"
     ]
    },
    {
     "name": "stderr",
     "output_type": "stream",
     "text": [
      "100%|██████████| 4724/4724 [00:03<00:00, 1508.56it/s]"
     ]
    },
    {
     "name": "stdout",
     "output_type": "stream",
     "text": [
      "finished tensor at ../../S3CMTF_code/src_data_200K_May_12/emb-pkl-files/speaker+question_TF_40_model_8_round_2/x1/only_on_real_data/s3cmtf_dev.tensor\n",
      "tensor shape, 39157 4724 240 num entries: 1133760\n",
      "save config file at ../../S3CMTF_code/src_data_200K_May_12/emb-pkl-files/speaker+question_TF_40_model_8_round_2/x1/only_on_real_data/s3cmtf_config.txt\n",
      "base dir:  ../../S3CMTF_code/src_data_200K_May_12/emb-pkl-files/speaker+question_TF_40_model_8_round_2/x1/only_on_real_data\n"
     ]
    },
    {
     "name": "stderr",
     "output_type": "stream",
     "text": [
      "\n"
     ]
    }
   ],
   "source": [
    "base_dir='../../S3CMTF_code/src_data_200K_May_12/emb-pkl-files/speaker+question_TF_40_model_8_round_2/x1/only_on_real_data'\n",
    "aug_file='x1_augmentation_ref_0.001.txt.emb.pkl'\n",
    "\n",
    "\n",
    "n_components=240\n",
    "dim1,dim2,dim3=30,30,30\n",
    "num_thread=36\n",
    "user_feature_line='1 ../../../../src_data_200K_May_12/s3cmtf_user_feature_onehot.mat 9041 42709684\\n'\n",
    "context_feature_line='2 ../../../../src_data_200K_May_12/s3cmtf_context_emb.mat 768 30095616\\n'\n",
    "pickle_file='../../S3CMTF_code/src_data_200K_May_12/train_ref.txt.emb.pkl'\n",
    "pickle_file_2=os.path.join(base_dir,aug_file)\n",
    "pickle_file_3='../../S3CMTF_code/src_data_200K_May_12/val_ref.txt.emb.pkl'\n",
    "\n",
    "pairs,pairs_2,pairs_3=pca_pairs_three_file(pickle_file,pickle_file_2,pickle_file_3,n_components)\n",
    "\n",
    "\n",
    "output_a_dir(pairs,pairs_2,pairs_3,base_dir,dim1,dim2,dim3,num_thread,user_feature_line,context_feature_line)\n",
    "# ./S3CMTF-opt s3cmtf_config.txt  s3cmtf_train.tensor s3cmtf_dev.tensor 30x30x30_0.0005_1_4 2 0.0005 1 4 100"
   ]
  },
  {
   "cell_type": "code",
   "execution_count": 35,
   "metadata": {},
   "outputs": [
    {
     "name": "stdout",
     "output_type": "stream",
     "text": [
      "# 1. read the pickle file\n",
      "# 2. build the all_embeddings_nparray\n",
      "# 1. read the pickle file\n",
      "# 2. build the all_embeddings_nparray\n",
      "# 1. read the pickle file\n",
      "# 2. build the all_embeddings_nparray\n",
      "# 3. PCA\n",
      "var %: 0.9583137852138899\n",
      "# 4. get the new emb\n",
      "# 4. get the new emb\n",
      "# 4. get the new emb\n"
     ]
    },
    {
     "name": "stderr",
     "output_type": "stream",
     "text": [
      "100%|██████████| 356048/356048 [04:08<00:00, 1432.82it/s]\n",
      "  3%|▎         | 154/4724 [00:00<00:02, 1538.73it/s]"
     ]
    },
    {
     "name": "stdout",
     "output_type": "stream",
     "text": [
      "finished tensor at ../../S3CMTF_code/src_data_200K_May_12/emb-pkl-files/speaker+question_TF_40_model_8_round_2/x1/ST(PT+FT)/s3cmtf_train.tensor\n",
      "tensor shape, 39187 4724 240 num entries: 85451520\n"
     ]
    },
    {
     "name": "stderr",
     "output_type": "stream",
     "text": [
      "100%|██████████| 4724/4724 [00:03<00:00, 1367.83it/s]"
     ]
    },
    {
     "name": "stdout",
     "output_type": "stream",
     "text": [
      "finished tensor at ../../S3CMTF_code/src_data_200K_May_12/emb-pkl-files/speaker+question_TF_40_model_8_round_2/x1/ST(PT+FT)/s3cmtf_dev.tensor\n",
      "tensor shape, 39157 4724 240 num entries: 1133760\n",
      "save config file at ../../S3CMTF_code/src_data_200K_May_12/emb-pkl-files/speaker+question_TF_40_model_8_round_2/x1/ST(PT+FT)/s3cmtf_config.txt\n",
      "base dir:  ../../S3CMTF_code/src_data_200K_May_12/emb-pkl-files/speaker+question_TF_40_model_8_round_2/x1/ST(PT+FT)\n"
     ]
    },
    {
     "name": "stderr",
     "output_type": "stream",
     "text": [
      "\n"
     ]
    }
   ],
   "source": [
    "base_dir='../../S3CMTF_code/src_data_200K_May_12/emb-pkl-files/speaker+question_TF_40_model_8_round_2/x1/ST(PT+FT)'\n",
    "aug_file='x1_augmentation_ref_0.001.txt.emb.pkl'\n",
    "\n",
    "\n",
    "n_components=240\n",
    "dim1,dim2,dim3=30,30,30\n",
    "num_thread=36\n",
    "user_feature_line='1 ../../../../src_data_200K_May_12/s3cmtf_user_feature_onehot.mat 9041 42709684\\n'\n",
    "context_feature_line='2 ../../../../src_data_200K_May_12/s3cmtf_context_emb.mat 768 30095616\\n'\n",
    "pickle_file='../../S3CMTF_code/src_data_200K_May_12/train_ref.txt.emb.pkl'\n",
    "pickle_file_2=os.path.join(base_dir,aug_file)\n",
    "pickle_file_3='../../S3CMTF_code/src_data_200K_May_12/val_ref.txt.emb.pkl'\n",
    "\n",
    "pairs,pairs_2,pairs_3=pca_pairs_three_file(pickle_file,pickle_file_2,pickle_file_3,n_components)\n",
    "\n",
    "\n",
    "output_a_dir(pairs,pairs_2,pairs_3,base_dir,dim1,dim2,dim3,num_thread,user_feature_line,context_feature_line)\n",
    "# ./S3CMTF-opt s3cmtf_config.txt  s3cmtf_train.tensor s3cmtf_dev.tensor 30x30x30_0.0005_1_4 2 0.0005 1 4 100"
   ]
  },
  {
   "cell_type": "code",
   "execution_count": 37,
   "metadata": {},
   "outputs": [],
   "source": [
    "\n",
    "def output_a_dir_only_real_on_train(pairs,pairs_2,pairs_3,base_dir,dim1,dim2,dim3,num_thread,user_feature_line,context_feature_line):\n",
    "    # output tensor\n",
    "    tensor_file=os.path.join(base_dir,'s3cmtf_train.tensor')\n",
    "    max_context_id,max_user_id,emb_dim,train_num_entries = output_tensor(pairs,tensor_file)\n",
    "\n",
    "    tensor_file=os.path.join(base_dir,'s3cmtf_dev.tensor')\n",
    "    _,_,_,dev_num_entries=output_tensor(pairs_3,tensor_file)\n",
    "\n",
    "    # build the config file\n",
    "    config_fing=os.path.join(base_dir,'s3cmtf_config.txt')\n",
    "    with open(config_fing,'w') as fout:\n",
    "        fout.write('3\\n')\n",
    "        fout.write('{} {} {}\\n'.format(max_context_id,max_user_id,emb_dim))\n",
    "        fout.write('{} {} {}\\n'.format(dim1,dim2,dim3))\n",
    "        fout.write('{}\\n'.format(num_thread))\n",
    "        fout.write('{}\\n'.format(train_num_entries))\n",
    "        fout.write('{}\\n'.format(dev_num_entries))\n",
    "        fout.write(user_feature_line)\n",
    "        fout.write(context_feature_line)\n",
    "    print('save config file at',config_fing)\n",
    "    print('base dir: ',base_dir)\n"
   ]
  },
  {
   "cell_type": "code",
   "execution_count": 38,
   "metadata": {},
   "outputs": [
    {
     "name": "stdout",
     "output_type": "stream",
     "text": [
      "# 1. read the pickle file\n",
      "# 2. build the all_embeddings_nparray\n",
      "# 1. read the pickle file\n",
      "# 2. build the all_embeddings_nparray\n",
      "# 1. read the pickle file\n",
      "# 2. build the all_embeddings_nparray\n",
      "# 3. PCA\n",
      "var %: 0.9541338010699099\n",
      "# 4. get the new emb\n",
      "# 4. get the new emb\n",
      "# 4. get the new emb\n"
     ]
    },
    {
     "name": "stderr",
     "output_type": "stream",
     "text": [
      "100%|██████████| 171812/171812 [01:56<00:00, 1468.91it/s]\n",
      "  3%|▎         | 149/4724 [00:00<00:03, 1488.70it/s]"
     ]
    },
    {
     "name": "stdout",
     "output_type": "stream",
     "text": [
      "finished tensor at ../../S3CMTF_code/src_data_200K_May_12/PCA_240_no_CM/s3cmtf_train.tensor\n",
      "tensor shape, 39187 4724 240 num entries: 41234880\n"
     ]
    },
    {
     "name": "stderr",
     "output_type": "stream",
     "text": [
      "100%|██████████| 4724/4724 [00:03<00:00, 1480.60it/s]"
     ]
    },
    {
     "name": "stdout",
     "output_type": "stream",
     "text": [
      "finished tensor at ../../S3CMTF_code/src_data_200K_May_12/PCA_240_no_CM/s3cmtf_dev.tensor\n",
      "tensor shape, 39157 4724 240 num entries: 1133760\n",
      "save config file at ../../S3CMTF_code/src_data_200K_May_12/PCA_240_no_CM/s3cmtf_config.txt\n",
      "base dir:  ../../S3CMTF_code/src_data_200K_May_12/PCA_240_no_CM\n"
     ]
    },
    {
     "name": "stderr",
     "output_type": "stream",
     "text": [
      "\n"
     ]
    }
   ],
   "source": [
    "base_dir='../../S3CMTF_code/src_data_200K_May_12/PCA_240_no_CM'\n",
    "aug_file='train_ref.txt.emb.pkl'\n",
    "\n",
    "\n",
    "n_components=240\n",
    "dim1,dim2,dim3=30,30,30\n",
    "num_thread=36\n",
    "user_feature_line='1 ../src_data_200K_May_12/s3cmtf_user_feature_onehot.mat 9041 42709684\\n'\n",
    "context_feature_line='2 ../src_data_200K_May_12/s3cmtf_context_emb.mat 768 30095616\\n'\n",
    "pickle_file='../../S3CMTF_code/src_data_200K_May_12/train_ref.txt.emb.pkl'\n",
    "pickle_file_2=os.path.join(base_dir,aug_file)\n",
    "pickle_file_3='../../S3CMTF_code/src_data_200K_May_12/val_ref.txt.emb.pkl'\n",
    "\n",
    "pairs,pairs_2,pairs_3=pca_pairs_three_file(pickle_file,pickle_file_2,pickle_file_3,n_components)\n",
    "\n",
    "\n",
    "output_a_dir_only_real_on_train(pairs,pairs_2,pairs_3,base_dir,dim1,dim2,dim3,num_thread,user_feature_line,context_feature_line)\n",
    "# ./S3CMTF-opt s3cmtf_config.txt  s3cmtf_train.tensor s3cmtf_dev.tensor 30x30x30_0.0005_1_4 2 0.0005 1 4 100"
   ]
  },
  {
   "cell_type": "code",
   "execution_count": 39,
   "metadata": {},
   "outputs": [
    {
     "name": "stdout",
     "output_type": "stream",
     "text": [
      "# 1. read the pickle file\n",
      "# 2. build the all_embeddings_nparray\n",
      "# 1. read the pickle file\n",
      "# 2. build the all_embeddings_nparray\n",
      "# 1. read the pickle file\n",
      "# 2. build the all_embeddings_nparray\n",
      "# 3. PCA\n",
      "var %: 0.9617193392481597\n",
      "# 4. get the new emb\n",
      "# 4. get the new emb\n",
      "# 4. get the new emb\n"
     ]
    },
    {
     "name": "stderr",
     "output_type": "stream",
     "text": [
      "100%|██████████| 1097716/1097716 [08:26<00:00, 2166.86it/s]\n",
      "  3%|▎         | 156/4724 [00:00<00:02, 1559.59it/s]"
     ]
    },
    {
     "name": "stdout",
     "output_type": "stream",
     "text": [
      "finished tensor at ../../S3CMTF_code/src_data_200K_May_12/emb-pkl-files/aug_speaker_TF_40_model_best_13_round_1/x5/s3cmtf_train.tensor\n",
      "tensor shape, 39187 4724 240 num entries: 263451840\n"
     ]
    },
    {
     "name": "stderr",
     "output_type": "stream",
     "text": [
      "100%|██████████| 4724/4724 [00:03<00:00, 1548.07it/s]"
     ]
    },
    {
     "name": "stdout",
     "output_type": "stream",
     "text": [
      "finished tensor at ../../S3CMTF_code/src_data_200K_May_12/emb-pkl-files/aug_speaker_TF_40_model_best_13_round_1/x5/s3cmtf_dev.tensor\n",
      "tensor shape, 39157 4724 240 num entries: 1133760\n",
      "save config file at ../../S3CMTF_code/src_data_200K_May_12/emb-pkl-files/aug_speaker_TF_40_model_best_13_round_1/x5/s3cmtf_config.txt\n",
      "base dir:  ../../S3CMTF_code/src_data_200K_May_12/emb-pkl-files/aug_speaker_TF_40_model_best_13_round_1/x5\n"
     ]
    },
    {
     "name": "stderr",
     "output_type": "stream",
     "text": [
      "\n"
     ]
    }
   ],
   "source": [
    "\n",
    "base_dir='../../S3CMTF_code/src_data_200K_May_12/emb-pkl-files/aug_speaker_TF_40_model_best_13_round_1/x5'\n",
    "\n",
    "aug_file='x5_augmentation_ref_0.005.txt.emb.pkl'\n",
    "\n",
    "n_components=240\n",
    "dim1,dim2,dim3=30,30,30\n",
    "num_thread=36\n",
    "user_feature_line='1 ../../../../../src_data_200K_May_12/s3cmtf_user_feature_onehot.mat 9041 42709684\\n'\n",
    "context_feature_line='2 ../../../../../src_data_200K_May_12/s3cmtf_context_emb.mat 768 30095616\\n'\n",
    "pickle_file='../../S3CMTF_code/src_data_200K_May_12/train_ref.txt.emb.pkl'\n",
    "pickle_file_2=os.path.join(base_dir,aug_file)\n",
    "pickle_file_3='../../S3CMTF_code/src_data_200K_May_12/val_ref.txt.emb.pkl'\n",
    "\n",
    "pairs,pairs_2,pairs_3=pca_pairs_three_file(pickle_file,pickle_file_2,pickle_file_3,n_components)\n",
    "\n",
    "\n",
    "output_a_dir(pairs,pairs_2,pairs_3,base_dir,dim1,dim2,dim3,num_thread,user_feature_line,context_feature_line)\n",
    "# ./S3CMTF-opt s3cmtf_config.txt  s3cmtf_train.tensor s3cmtf_dev.tensor 30x30x30_0.0005_1_4 2 0.0005 1 4 100"
   ]
  },
  {
   "cell_type": "code",
   "execution_count": 40,
   "metadata": {},
   "outputs": [
    {
     "name": "stdout",
     "output_type": "stream",
     "text": [
      "# 1. read the pickle file\n",
      "# 2. build the all_embeddings_nparray\n",
      "# 1. read the pickle file\n",
      "# 2. build the all_embeddings_nparray\n",
      "# 1. read the pickle file\n",
      "# 2. build the all_embeddings_nparray\n",
      "# 3. PCA\n",
      "var %: 0.9635511676820506\n",
      "# 4. get the new emb\n",
      "# 4. get the new emb\n",
      "# 4. get the new emb\n"
     ]
    },
    {
     "name": "stderr",
     "output_type": "stream",
     "text": [
      "100%|██████████| 2023620/2023620 [19:46<00:00, 1705.85it/s]\n",
      "  0%|          | 0/4724 [00:00<?, ?it/s]"
     ]
    },
    {
     "name": "stdout",
     "output_type": "stream",
     "text": [
      "finished tensor at ../../S3CMTF_code/src_data_200K_May_12/emb-pkl-files/aug_speaker_TF_40_model_best_13_round_1/x10/s3cmtf_train.tensor\n",
      "tensor shape, 39187 4724 240 num entries: 485668800\n"
     ]
    },
    {
     "name": "stderr",
     "output_type": "stream",
     "text": [
      "100%|██████████| 4724/4724 [00:01<00:00, 2552.76it/s]"
     ]
    },
    {
     "name": "stdout",
     "output_type": "stream",
     "text": [
      "finished tensor at ../../S3CMTF_code/src_data_200K_May_12/emb-pkl-files/aug_speaker_TF_40_model_best_13_round_1/x10/s3cmtf_dev.tensor\n",
      "tensor shape, 39157 4724 240 num entries: 1133760\n",
      "save config file at ../../S3CMTF_code/src_data_200K_May_12/emb-pkl-files/aug_speaker_TF_40_model_best_13_round_1/x10/s3cmtf_config.txt\n",
      "base dir:  ../../S3CMTF_code/src_data_200K_May_12/emb-pkl-files/aug_speaker_TF_40_model_best_13_round_1/x10\n"
     ]
    },
    {
     "name": "stderr",
     "output_type": "stream",
     "text": [
      "\n"
     ]
    }
   ],
   "source": [
    "\n",
    "base_dir='../../S3CMTF_code/src_data_200K_May_12/emb-pkl-files/aug_speaker_TF_40_model_best_13_round_1/x10'\n",
    "\n",
    "aug_file='x10_augmentation_ref_0.01.txt.emb.pkl'\n",
    "\n",
    "n_components=240\n",
    "dim1,dim2,dim3=30,30,30\n",
    "num_thread=72\n",
    "user_feature_line='1 ../../../../../src_data_200K_May_12/s3cmtf_user_feature_onehot.mat 9041 42709684\\n'\n",
    "context_feature_line='2 ../../../../../src_data_200K_May_12/s3cmtf_context_emb.mat 768 30095616\\n'\n",
    "pickle_file='../../S3CMTF_code/src_data_200K_May_12/train_ref.txt.emb.pkl'\n",
    "pickle_file_2=os.path.join(base_dir,aug_file)\n",
    "pickle_file_3='../../S3CMTF_code/src_data_200K_May_12/val_ref.txt.emb.pkl'\n",
    "\n",
    "pairs,pairs_2,pairs_3=pca_pairs_three_file(pickle_file,pickle_file_2,pickle_file_3,n_components)\n",
    "\n",
    "\n",
    "output_a_dir(pairs,pairs_2,pairs_3,base_dir,dim1,dim2,dim3,num_thread,user_feature_line,context_feature_line)\n",
    "# ./S3CMTF-opt s3cmtf_config.txt  s3cmtf_train.tensor s3cmtf_dev.tensor 30x30x30_0.0003_1_4 2 0.0003 1 4 100"
   ]
  },
  {
   "cell_type": "code",
   "execution_count": 41,
   "metadata": {},
   "outputs": [
    {
     "name": "stdout",
     "output_type": "stream",
     "text": [
      "# 1. read the pickle file\n",
      "# 2. build the all_embeddings_nparray\n",
      "# 1. read the pickle file\n",
      "# 2. build the all_embeddings_nparray\n",
      "# 1. read the pickle file\n",
      "# 2. build the all_embeddings_nparray\n",
      "# 3. PCA\n",
      "var %: 0.9590169202964947\n",
      "# 4. get the new emb\n",
      "# 4. get the new emb\n",
      "# 4. get the new emb\n"
     ]
    },
    {
     "name": "stderr",
     "output_type": "stream",
     "text": [
      "100%|██████████| 544410/544410 [06:10<00:00, 1468.01it/s]\n",
      "  3%|▎         | 154/4724 [00:00<00:02, 1536.25it/s]"
     ]
    },
    {
     "name": "stdout",
     "output_type": "stream",
     "text": [
      "finished tensor at ../../S3CMTF_code/src_data_200K_May_12/emb-pkl-files/30x30x30_0.0005_1_0_no_ppl_sampling_CM_round_1/x2/s3cmtf_train.tensor\n",
      "tensor shape, 39187 4724 240 num entries: 130658400\n"
     ]
    },
    {
     "name": "stderr",
     "output_type": "stream",
     "text": [
      "100%|██████████| 4724/4724 [00:03<00:00, 1504.99it/s]"
     ]
    },
    {
     "name": "stdout",
     "output_type": "stream",
     "text": [
      "finished tensor at ../../S3CMTF_code/src_data_200K_May_12/emb-pkl-files/30x30x30_0.0005_1_0_no_ppl_sampling_CM_round_1/x2/s3cmtf_dev.tensor\n",
      "tensor shape, 39157 4724 240 num entries: 1133760\n",
      "save config file at ../../S3CMTF_code/src_data_200K_May_12/emb-pkl-files/30x30x30_0.0005_1_0_no_ppl_sampling_CM_round_1/x2/s3cmtf_config.txt\n",
      "base dir:  ../../S3CMTF_code/src_data_200K_May_12/emb-pkl-files/30x30x30_0.0005_1_0_no_ppl_sampling_CM_round_1/x2\n"
     ]
    },
    {
     "name": "stderr",
     "output_type": "stream",
     "text": [
      "\n"
     ]
    }
   ],
   "source": [
    "\n",
    "base_dir='../../S3CMTF_code/src_data_200K_May_12/emb-pkl-files/30x30x30_0.0005_1_0_no_ppl_sampling_CM_round_1/x2'\n",
    "\n",
    "aug_file='x2_augmentation_ref_0.002.txt.emb.pkl'\n",
    "\n",
    "n_components=240\n",
    "dim1,dim2,dim3=30,30,30\n",
    "num_thread=36\n",
    "user_feature_line=''\n",
    "context_feature_line=''\n",
    "pickle_file='../../S3CMTF_code/src_data_200K_May_12/train_ref.txt.emb.pkl'\n",
    "pickle_file_2=os.path.join(base_dir,aug_file)\n",
    "pickle_file_3='../../S3CMTF_code/src_data_200K_May_12/val_ref.txt.emb.pkl'\n",
    "\n",
    "pairs,pairs_2,pairs_3=pca_pairs_three_file(pickle_file,pickle_file_2,pickle_file_3,n_components)\n",
    "\n",
    "\n",
    "output_a_dir(pairs,pairs_2,pairs_3,base_dir,dim1,dim2,dim3,num_thread,user_feature_line,context_feature_line)\n",
    "# ./S3CMTF-opt s3cmtf_config.txt  s3cmtf_train.tensor s3cmtf_dev.tensor 30x30x30_0.0005_1_0 2 0.0005 1 0 100\n",
    "# todo, can we do 30x30x30_0.0005_1_0 0 0.0005 1 0 100?\n",
    "# ./S3CMTF-opt s3cmtf_config.txt  s3cmtf_train.tensor s3cmtf_dev.tensor 30x30x30_0.0005_1_0 0 0.0005 1 0 100"
   ]
  },
  {
   "cell_type": "code",
   "execution_count": 42,
   "metadata": {},
   "outputs": [
    {
     "name": "stdout",
     "output_type": "stream",
     "text": [
      "# 1. read the pickle file\n",
      "# 2. build the all_embeddings_nparray\n",
      "# 1. read the pickle file\n",
      "# 2. build the all_embeddings_nparray\n",
      "# 1. read the pickle file\n",
      "# 2. build the all_embeddings_nparray\n",
      "# 3. PCA\n",
      "var %: 0.9573517277869287\n",
      "# 4. get the new emb\n",
      "# 4. get the new emb\n",
      "# 4. get the new emb\n"
     ]
    },
    {
     "name": "stderr",
     "output_type": "stream",
     "text": [
      "100%|██████████| 359290/359290 [04:02<00:00, 1479.72it/s]\n",
      "  3%|▎         | 153/4724 [00:00<00:03, 1521.04it/s]"
     ]
    },
    {
     "name": "stdout",
     "output_type": "stream",
     "text": [
      "finished tensor at ../../S3CMTF_code/src_data_200K_May_12/emb-pkl-files/30x30x30_0.0005_1_0_no_ppl_sampling_CM_round_1/x1/s3cmtf_train.tensor\n",
      "tensor shape, 39187 4724 240 num entries: 86229600\n"
     ]
    },
    {
     "name": "stderr",
     "output_type": "stream",
     "text": [
      "100%|██████████| 4724/4724 [00:03<00:00, 1487.84it/s]"
     ]
    },
    {
     "name": "stdout",
     "output_type": "stream",
     "text": [
      "finished tensor at ../../S3CMTF_code/src_data_200K_May_12/emb-pkl-files/30x30x30_0.0005_1_0_no_ppl_sampling_CM_round_1/x1/s3cmtf_dev.tensor\n",
      "tensor shape, 39157 4724 240 num entries: 1133760\n",
      "save config file at ../../S3CMTF_code/src_data_200K_May_12/emb-pkl-files/30x30x30_0.0005_1_0_no_ppl_sampling_CM_round_1/x1/s3cmtf_config.txt\n",
      "base dir:  ../../S3CMTF_code/src_data_200K_May_12/emb-pkl-files/30x30x30_0.0005_1_0_no_ppl_sampling_CM_round_1/x1\n"
     ]
    },
    {
     "name": "stderr",
     "output_type": "stream",
     "text": [
      "\n"
     ]
    }
   ],
   "source": [
    "\n",
    "base_dir='../../S3CMTF_code/src_data_200K_May_12/emb-pkl-files/30x30x30_0.0005_1_0_no_ppl_sampling_CM_round_1/x1'\n",
    "\n",
    "aug_file='x1_augmentation_ref_0.001.txt.emb.pkl'\n",
    "\n",
    "n_components=240\n",
    "dim1,dim2,dim3=30,30,30\n",
    "num_thread=36\n",
    "user_feature_line=''\n",
    "context_feature_line=''\n",
    "pickle_file='../../S3CMTF_code/src_data_200K_May_12/train_ref.txt.emb.pkl'\n",
    "pickle_file_2=os.path.join(base_dir,aug_file)\n",
    "pickle_file_3='../../S3CMTF_code/src_data_200K_May_12/val_ref.txt.emb.pkl'\n",
    "\n",
    "pairs,pairs_2,pairs_3=pca_pairs_three_file(pickle_file,pickle_file_2,pickle_file_3,n_components)\n",
    "\n",
    "\n",
    "output_a_dir(pairs,pairs_2,pairs_3,base_dir,dim1,dim2,dim3,num_thread,user_feature_line,context_feature_line)\n",
    "# ./S3CMTF-opt s3cmtf_config.txt  s3cmtf_train.tensor s3cmtf_dev.tensor 30x30x30_0.0005_1_0 2 0.0005 1 0 100\n",
    "# todo, can we do 30x30x30_0.0005_1_0 0 0.0005 1 0 100?\n",
    "# ./S3CMTF-opt s3cmtf_config.txt  s3cmtf_train.tensor s3cmtf_dev.tensor 30x30x30_0.0005_1_0 0 0.0005 1 0 100"
   ]
  },
  {
   "cell_type": "code",
   "execution_count": 43,
   "metadata": {},
   "outputs": [
    {
     "name": "stdout",
     "output_type": "stream",
     "text": [
      "# 1. read the pickle file\n",
      "# 2. build the all_embeddings_nparray\n",
      "# 1. read the pickle file\n",
      "# 2. build the all_embeddings_nparray\n",
      "# 1. read the pickle file\n",
      "# 2. build the all_embeddings_nparray\n",
      "# 3. PCA\n",
      "var %: 0.9612214169066727\n",
      "# 4. get the new emb\n",
      "# 4. get the new emb\n",
      "# 4. get the new emb\n"
     ]
    },
    {
     "name": "stderr",
     "output_type": "stream",
     "text": [
      "100%|██████████| 1099777/1099777 [06:48<00:00, 2692.30it/s]\n",
      "  6%|▌         | 272/4724 [00:00<00:01, 2714.70it/s]"
     ]
    },
    {
     "name": "stdout",
     "output_type": "stream",
     "text": [
      "finished tensor at ../../S3CMTF_code/src_data_200K_May_12/emb-pkl-files/30x30x30_0.0005_1_0_no_ppl_sampling_CM_round_1/x5/s3cmtf_train.tensor\n",
      "tensor shape, 39187 4724 240 num entries: 263946480\n"
     ]
    },
    {
     "name": "stderr",
     "output_type": "stream",
     "text": [
      "100%|██████████| 4724/4724 [00:01<00:00, 2686.25it/s]"
     ]
    },
    {
     "name": "stdout",
     "output_type": "stream",
     "text": [
      "finished tensor at ../../S3CMTF_code/src_data_200K_May_12/emb-pkl-files/30x30x30_0.0005_1_0_no_ppl_sampling_CM_round_1/x5/s3cmtf_dev.tensor\n",
      "tensor shape, 39157 4724 240 num entries: 1133760\n",
      "save config file at ../../S3CMTF_code/src_data_200K_May_12/emb-pkl-files/30x30x30_0.0005_1_0_no_ppl_sampling_CM_round_1/x5/s3cmtf_config.txt\n",
      "base dir:  ../../S3CMTF_code/src_data_200K_May_12/emb-pkl-files/30x30x30_0.0005_1_0_no_ppl_sampling_CM_round_1/x5\n"
     ]
    },
    {
     "name": "stderr",
     "output_type": "stream",
     "text": [
      "\n"
     ]
    }
   ],
   "source": [
    "\n",
    "base_dir='../../S3CMTF_code/src_data_200K_May_12/emb-pkl-files/30x30x30_0.0005_1_0_no_ppl_sampling_CM_round_1/x5'\n",
    "\n",
    "aug_file='x5_augmentation_ref_0.005.txt.emb.pkl'\n",
    "\n",
    "n_components=240\n",
    "dim1,dim2,dim3=30,30,30\n",
    "num_thread=36\n",
    "user_feature_line=''\n",
    "context_feature_line=''\n",
    "pickle_file='../../S3CMTF_code/src_data_200K_May_12/train_ref.txt.emb.pkl'\n",
    "pickle_file_2=os.path.join(base_dir,aug_file)\n",
    "pickle_file_3='../../S3CMTF_code/src_data_200K_May_12/val_ref.txt.emb.pkl'\n",
    "\n",
    "pairs,pairs_2,pairs_3=pca_pairs_three_file(pickle_file,pickle_file_2,pickle_file_3,n_components)\n",
    "\n",
    "\n",
    "output_a_dir(pairs,pairs_2,pairs_3,base_dir,dim1,dim2,dim3,num_thread,user_feature_line,context_feature_line)\n",
    "# ./S3CMTF-opt s3cmtf_config.txt  s3cmtf_train.tensor s3cmtf_dev.tensor 30x30x30_0.0005_1_0 2 0.0005 1 0 100\n",
    "# todo, can we do 30x30x30_0.0005_1_0 0 0.0005 1 0 100?\n",
    "# ./S3CMTF-opt s3cmtf_config.txt  s3cmtf_train.tensor s3cmtf_dev.tensor 30x30x30_0.0005_1_0 0 0.0005 1 0 100"
   ]
  },
  {
   "cell_type": "code",
   "execution_count": 44,
   "metadata": {},
   "outputs": [
    {
     "name": "stdout",
     "output_type": "stream",
     "text": [
      "# 1. read the pickle file\n",
      "# 2. build the all_embeddings_nparray\n",
      "# 1. read the pickle file\n",
      "# 2. build the all_embeddings_nparray\n",
      "# 1. read the pickle file\n",
      "# 2. build the all_embeddings_nparray\n",
      "# 3. PCA\n",
      "var %: 0.9590693224187832\n",
      "# 4. get the new emb\n",
      "# 4. get the new emb\n",
      "# 4. get the new emb\n"
     ]
    },
    {
     "name": "stderr",
     "output_type": "stream",
     "text": [
      "100%|██████████| 544404/544404 [03:24<00:00, 2659.63it/s]\n",
      "  6%|▌         | 270/4724 [00:00<00:01, 2697.71it/s]"
     ]
    },
    {
     "name": "stdout",
     "output_type": "stream",
     "text": [
      "finished tensor at ../../S3CMTF_code/src_data_200K_May_12/emb-pkl-files/30x30x30_0.0005_1_0_no_ppl_sampling_CM_round_2/x2/s3cmtf_train.tensor\n",
      "tensor shape, 39187 4724 240 num entries: 130656960\n"
     ]
    },
    {
     "name": "stderr",
     "output_type": "stream",
     "text": [
      "100%|██████████| 4724/4724 [00:01<00:00, 2672.09it/s]"
     ]
    },
    {
     "name": "stdout",
     "output_type": "stream",
     "text": [
      "finished tensor at ../../S3CMTF_code/src_data_200K_May_12/emb-pkl-files/30x30x30_0.0005_1_0_no_ppl_sampling_CM_round_2/x2/s3cmtf_dev.tensor\n",
      "tensor shape, 39157 4724 240 num entries: 1133760\n",
      "save config file at ../../S3CMTF_code/src_data_200K_May_12/emb-pkl-files/30x30x30_0.0005_1_0_no_ppl_sampling_CM_round_2/x2/s3cmtf_config.txt\n",
      "base dir:  ../../S3CMTF_code/src_data_200K_May_12/emb-pkl-files/30x30x30_0.0005_1_0_no_ppl_sampling_CM_round_2/x2\n"
     ]
    },
    {
     "name": "stderr",
     "output_type": "stream",
     "text": [
      "\n"
     ]
    }
   ],
   "source": [
    "\n",
    "base_dir='../../S3CMTF_code/src_data_200K_May_12/emb-pkl-files/30x30x30_0.0005_1_0_no_ppl_sampling_CM_round_2/x2'\n",
    "\n",
    "aug_file='x2_augmentation_ref_0.002.txt.emb.pkl'\n",
    "\n",
    "n_components=240\n",
    "dim1,dim2,dim3=30,30,30\n",
    "num_thread=36\n",
    "user_feature_line=''\n",
    "context_feature_line=''\n",
    "pickle_file='../../S3CMTF_code/src_data_200K_May_12/train_ref.txt.emb.pkl'\n",
    "pickle_file_2=os.path.join(base_dir,aug_file)\n",
    "pickle_file_3='../../S3CMTF_code/src_data_200K_May_12/val_ref.txt.emb.pkl'\n",
    "\n",
    "pairs,pairs_2,pairs_3=pca_pairs_three_file(pickle_file,pickle_file_2,pickle_file_3,n_components)\n",
    "\n",
    "\n",
    "output_a_dir(pairs,pairs_2,pairs_3,base_dir,dim1,dim2,dim3,num_thread,user_feature_line,context_feature_line)\n",
    "# ./S3CMTF-opt s3cmtf_config.txt  s3cmtf_train.tensor s3cmtf_dev.tensor 30x30x30_0.0005_1_0 2 0.0005 1 0 100\n",
    "# todo, can we do 30x30x30_0.0005_1_0 0 0.0005 1 0 100?\n",
    "# ./S3CMTF-opt s3cmtf_config.txt  s3cmtf_train.tensor s3cmtf_dev.tensor 30x30x30_0.0005_1_0 0 0.0005 1 0 100"
   ]
  },
  {
   "cell_type": "code",
   "execution_count": 50,
   "metadata": {},
   "outputs": [
    {
     "name": "stdout",
     "output_type": "stream",
     "text": [
      "# 1. read the pickle file\n",
      "# 2. build the all_embeddings_nparray\n",
      "# 1. read the pickle file\n",
      "# 2. build the all_embeddings_nparray\n",
      "# 1. read the pickle file\n",
      "# 2. build the all_embeddings_nparray\n",
      "# 3. PCA\n",
      "var %: 0.9621678397578588\n",
      "# 4. get the new emb\n",
      "# 4. get the new emb\n",
      "# 4. get the new emb\n"
     ]
    },
    {
     "name": "stderr",
     "output_type": "stream",
     "text": [
      "100%|██████████| 1097716/1097716 [07:00<00:00, 2610.62it/s]\n",
      "  6%|▌         | 260/4724 [00:00<00:01, 2596.31it/s]"
     ]
    },
    {
     "name": "stdout",
     "output_type": "stream",
     "text": [
      "finished tensor at ../../S3CMTF_code/src_data_200K_May_12/emb-pkl-files/aug_pca_30_factor+CMTF_40+rand_30_model_best_13_round_1/x5/s3cmtf_train.tensor\n",
      "tensor shape, 39187 4724 240 num entries: 263451840\n"
     ]
    },
    {
     "name": "stderr",
     "output_type": "stream",
     "text": [
      "100%|██████████| 4724/4724 [00:01<00:00, 2588.47it/s]"
     ]
    },
    {
     "name": "stdout",
     "output_type": "stream",
     "text": [
      "finished tensor at ../../S3CMTF_code/src_data_200K_May_12/emb-pkl-files/aug_pca_30_factor+CMTF_40+rand_30_model_best_13_round_1/x5/s3cmtf_dev.tensor\n",
      "tensor shape, 39157 4724 240 num entries: 1133760\n",
      "save config file at ../../S3CMTF_code/src_data_200K_May_12/emb-pkl-files/aug_pca_30_factor+CMTF_40+rand_30_model_best_13_round_1/x5/s3cmtf_config.txt\n",
      "base dir:  ../../S3CMTF_code/src_data_200K_May_12/emb-pkl-files/aug_pca_30_factor+CMTF_40+rand_30_model_best_13_round_1/x5\n"
     ]
    },
    {
     "name": "stderr",
     "output_type": "stream",
     "text": [
      "\n"
     ]
    }
   ],
   "source": [
    "\n",
    "base_dir='../../S3CMTF_code/src_data_200K_May_12/emb-pkl-files/aug_pca_30_factor+CMTF_40+rand_30_model_best_13_round_1/x5'\n",
    "\n",
    "aug_file='x5_augmentation_ref_0.005.txt.emb.pkl'\n",
    "\n",
    "n_components=240\n",
    "dim1,dim2,dim3=30,30,30\n",
    "num_thread=72\n",
    "user_feature_line='1 ../../../../src_data_200K_May_12/s3cmtf_user_feature_onehot.mat 9041 42709684\\n'\n",
    "context_feature_line='2 ../../../../src_data_200K_May_12/s3cmtf_context_emb.mat 768 30095616\\n'\n",
    "pickle_file='../../S3CMTF_code/src_data_200K_May_12/train_ref.txt.emb.pkl'\n",
    "pickle_file_2=os.path.join(base_dir,aug_file)\n",
    "pickle_file_3='../../S3CMTF_code/src_data_200K_May_12/val_ref.txt.emb.pkl'\n",
    "\n",
    "pairs,pairs_2,pairs_3=pca_pairs_three_file(pickle_file,pickle_file_2,pickle_file_3,n_components)\n",
    "\n",
    "\n",
    "output_a_dir(pairs,pairs_2,pairs_3,base_dir,dim1,dim2,dim3,num_thread,user_feature_line,context_feature_line)\n",
    "\n",
    "# ./S3CMTF-opt s3cmtf_config.txt  s3cmtf_train.tensor s3cmtf_dev.tensor 30x30x30_0.0005_2_2 2 0.0005 2 2 100"
   ]
  },
  {
   "cell_type": "code",
   "execution_count": 51,
   "metadata": {},
   "outputs": [
    {
     "name": "stdout",
     "output_type": "stream",
     "text": [
      "# 1. read the pickle file\n",
      "# 2. build the all_embeddings_nparray\n",
      "# 1. read the pickle file\n",
      "# 2. build the all_embeddings_nparray\n",
      "# 1. read the pickle file\n",
      "# 2. build the all_embeddings_nparray\n",
      "# 3. PCA\n",
      "var %: 0.9564158708445677\n",
      "# 4. get the new emb\n",
      "# 4. get the new emb\n",
      "# 4. get the new emb\n"
     ]
    },
    {
     "name": "stderr",
     "output_type": "stream",
     "text": [
      "100%|██████████| 266292/266292 [03:21<00:00, 1324.14it/s]\n",
      "  3%|▎         | 141/4724 [00:00<00:03, 1408.19it/s]"
     ]
    },
    {
     "name": "stdout",
     "output_type": "stream",
     "text": [
      "finished tensor at ../../S3CMTF_code/src_data_200K_May_12/emb-pkl-files/aug_pca_30_factor+CMTF_40+rand_30_model_best_13_round_2/x0.5/s3cmtf_train.tensor\n",
      "tensor shape, 39187 4724 240 num entries: 63910080\n"
     ]
    },
    {
     "name": "stderr",
     "output_type": "stream",
     "text": [
      "100%|██████████| 4724/4724 [00:03<00:00, 1388.80it/s]"
     ]
    },
    {
     "name": "stdout",
     "output_type": "stream",
     "text": [
      "finished tensor at ../../S3CMTF_code/src_data_200K_May_12/emb-pkl-files/aug_pca_30_factor+CMTF_40+rand_30_model_best_13_round_2/x0.5/s3cmtf_dev.tensor\n",
      "tensor shape, 39157 4724 240 num entries: 1133760\n",
      "save config file at ../../S3CMTF_code/src_data_200K_May_12/emb-pkl-files/aug_pca_30_factor+CMTF_40+rand_30_model_best_13_round_2/x0.5/s3cmtf_config.txt\n",
      "base dir:  ../../S3CMTF_code/src_data_200K_May_12/emb-pkl-files/aug_pca_30_factor+CMTF_40+rand_30_model_best_13_round_2/x0.5\n"
     ]
    },
    {
     "name": "stderr",
     "output_type": "stream",
     "text": [
      "\n"
     ]
    }
   ],
   "source": [
    "\n",
    "base_dir='../../S3CMTF_code/src_data_200K_May_12/emb-pkl-files/aug_pca_30_factor+CMTF_40+rand_30_model_best_13_round_2/x0.5'\n",
    "\n",
    "aug_file='x0.5_augmentation_ref_0.0005.txt.emb.pkl'\n",
    "\n",
    "n_components=240\n",
    "dim1,dim2,dim3=30,30,30\n",
    "num_thread=72\n",
    "user_feature_line='1 ../../../../src_data_200K_May_12/s3cmtf_user_feature_onehot.mat 9041 42709684\\n'\n",
    "context_feature_line='2 ../../../../src_data_200K_May_12/s3cmtf_context_emb.mat 768 30095616\\n'\n",
    "pickle_file='../../S3CMTF_code/src_data_200K_May_12/train_ref.txt.emb.pkl'\n",
    "pickle_file_2=os.path.join(base_dir,aug_file)\n",
    "pickle_file_3='../../S3CMTF_code/src_data_200K_May_12/val_ref.txt.emb.pkl'\n",
    "\n",
    "pairs,pairs_2,pairs_3=pca_pairs_three_file(pickle_file,pickle_file_2,pickle_file_3,n_components)\n",
    "\n",
    "\n",
    "output_a_dir(pairs,pairs_2,pairs_3,base_dir,dim1,dim2,dim3,num_thread,user_feature_line,context_feature_line)\n",
    "\n",
    "# ./S3CMTF-opt s3cmtf_config.txt  s3cmtf_train.tensor s3cmtf_dev.tensor 30x30x30_0.0005_2_2 2 0.0005 2 2 100"
   ]
  },
  {
   "cell_type": "markdown",
   "metadata": {},
   "source": [
    "# Non-PCA version"
   ]
  },
  {
   "cell_type": "code",
   "execution_count": 56,
   "metadata": {},
   "outputs": [],
   "source": [
    "def read_two_file(pickle_file,pickle_file_2):\n",
    "    # 1. read the pickle file\n",
    "    print('# 1. read the pickle file')\n",
    "    with open(pickle_file, \"rb\") as f:\n",
    "        pairs = pickle.load(f)\n",
    "\n",
    "\n",
    "    # 1. read the pickle file\n",
    "    print('# 1. read the pickle file')\n",
    "    with open(pickle_file_2, \"rb\") as f:\n",
    "        pairs_2 = pickle.load(f)\n",
    "\n",
    "    \n",
    "    return pairs,pairs_2\n",
    "def output_tensor(pairs,tensor_file):\n",
    "    # 5. output the tensor.\n",
    "    num_entries=0\n",
    "    max_context_id=0\n",
    "    max_user_id=0\n",
    "    with open(tensor_file,'w') as fout:\n",
    "        for pair in tqdm(pairs):\n",
    "            context_tensor_id = pair['cid']\n",
    "            if context_tensor_id > max_context_id:\n",
    "                max_context_id=context_tensor_id\n",
    "            \n",
    "            user_idx = pair['pid']\n",
    "            if user_idx>max_user_id:\n",
    "                max_user_id=user_idx\n",
    "            emb=pair['res_emb']\n",
    "            emb_dim=len(emb)\n",
    "            for k in range(emb_dim):\n",
    "                value = emb[k]\n",
    "                fout.write('{}\\t{}\\t{}\\t{}\\n'.format(int(context_tensor_id),\n",
    "                                                     int(user_idx),k+1,value))\n",
    "                num_entries+=1    \n",
    "    # 6. output the statistics of the tensor\n",
    "    print('finished tensor at',tensor_file)\n",
    "    print('tensor shape,',max_context_id,max_user_id,emb_dim,'num entries:',num_entries)\n",
    "    "
   ]
  },
  {
   "cell_type": "code",
   "execution_count": 57,
   "metadata": {},
   "outputs": [],
   "source": [
    "def output_a_dir(pairs,pairs_2,base_dir,dim1,dim2,dim3,num_thread,user_feature_line,context_feature_line):\n",
    "    # output tensor\n",
    "    tensor_file=os.path.join(base_dir,'s3cmtf_train.tensor')\n",
    "    max_context_id,max_user_id,emb_dim,train_num_entries = output_tensor(pairs+pairs_2,tensor_file)\n",
    "\n",
    "\n",
    "    # build the config file\n",
    "    config_fing=os.path.join(base_dir,'s3cmtf_config.txt')\n",
    "    with open(config_fing,'w') as fout:\n",
    "        fout.write('3\\n')\n",
    "        fout.write('{} {} {}\\n'.format(max_context_id,max_user_id,emb_dim))\n",
    "        fout.write('{} {} {}\\n'.format(dim1,dim2,dim3))\n",
    "        fout.write('{}\\n'.format(num_thread))\n",
    "        fout.write('{}\\n'.format(train_num_entries))\n",
    "        fout.write('{}\\n'.format(3628032))\n",
    "        fout.write(user_feature_line)\n",
    "        fout.write(context_feature_line)\n",
    "    print('save config file at',config_fing)\n",
    "    print('base dir: ',base_dir)\n"
   ]
  },
  {
   "cell_type": "code",
   "execution_count": 58,
   "metadata": {},
   "outputs": [
    {
     "name": "stdout",
     "output_type": "stream",
     "text": [
      "# 1. read the pickle file\n",
      "# 1. read the pickle file\n"
     ]
    },
    {
     "name": "stderr",
     "output_type": "stream",
     "text": [
      "100%|██████████| 540284/540284 [16:12<00:00, 555.56it/s]\n"
     ]
    },
    {
     "name": "stdout",
     "output_type": "stream",
     "text": [
      "finished tensor at ../../S3CMTF_code/src_data_200K_May_12/emb-pkl-files/aug_pca_30_factor+CMTF_40+rand_30_model_best_13_round_1/x2_no_pca/s3cmtf_train.tensor\n",
      "tensor shape, 39187 4724 768 num entries: 414938112\n"
     ]
    },
    {
     "ename": "TypeError",
     "evalue": "cannot unpack non-iterable NoneType object",
     "output_type": "error",
     "traceback": [
      "\u001b[0;31m---------------------------------------------------------------------------\u001b[0m",
      "\u001b[0;31mTypeError\u001b[0m                                 Traceback (most recent call last)",
      "\u001b[0;32m<ipython-input-58-10d2dde4db5c>\u001b[0m in \u001b[0;36m<module>\u001b[0;34m\u001b[0m\n\u001b[1;32m     14\u001b[0m \u001b[0mpairs\u001b[0m\u001b[0;34m,\u001b[0m\u001b[0mpairs_2\u001b[0m\u001b[0;34m=\u001b[0m\u001b[0mread_two_file\u001b[0m\u001b[0;34m(\u001b[0m\u001b[0mpickle_file\u001b[0m\u001b[0;34m,\u001b[0m\u001b[0mpickle_file_2\u001b[0m\u001b[0;34m)\u001b[0m\u001b[0;34m\u001b[0m\u001b[0;34m\u001b[0m\u001b[0m\n\u001b[1;32m     15\u001b[0m \u001b[0;34m\u001b[0m\u001b[0m\n\u001b[0;32m---> 16\u001b[0;31m \u001b[0moutput_a_dir\u001b[0m\u001b[0;34m(\u001b[0m\u001b[0mpairs\u001b[0m\u001b[0;34m,\u001b[0m\u001b[0mpairs_2\u001b[0m\u001b[0;34m,\u001b[0m\u001b[0mbase_dir\u001b[0m\u001b[0;34m,\u001b[0m\u001b[0mdim1\u001b[0m\u001b[0;34m,\u001b[0m\u001b[0mdim2\u001b[0m\u001b[0;34m,\u001b[0m\u001b[0mdim3\u001b[0m\u001b[0;34m,\u001b[0m\u001b[0mnum_thread\u001b[0m\u001b[0;34m,\u001b[0m\u001b[0muser_feature_line\u001b[0m\u001b[0;34m,\u001b[0m\u001b[0mcontext_feature_line\u001b[0m\u001b[0;34m)\u001b[0m\u001b[0;34m\u001b[0m\u001b[0;34m\u001b[0m\u001b[0m\n\u001b[0m\u001b[1;32m     17\u001b[0m \u001b[0;34m\u001b[0m\u001b[0m\n\u001b[1;32m     18\u001b[0m \u001b[0;31m# ./S3CMTF-opt s3cmtf_config.txt  s3cmtf_train.tensor s3cmtf_dev.tensor 30x30x30_0.0005_2_2 2 0.0005 2 2 100\u001b[0m\u001b[0;34m\u001b[0m\u001b[0;34m\u001b[0m\u001b[0;34m\u001b[0m\u001b[0m\n",
      "\u001b[0;32m<ipython-input-57-d1c557dad490>\u001b[0m in \u001b[0;36moutput_a_dir\u001b[0;34m(pairs, pairs_2, base_dir, dim1, dim2, dim3, num_thread, user_feature_line, context_feature_line)\u001b[0m\n\u001b[1;32m      2\u001b[0m     \u001b[0;31m# output tensor\u001b[0m\u001b[0;34m\u001b[0m\u001b[0;34m\u001b[0m\u001b[0;34m\u001b[0m\u001b[0m\n\u001b[1;32m      3\u001b[0m     \u001b[0mtensor_file\u001b[0m\u001b[0;34m=\u001b[0m\u001b[0mos\u001b[0m\u001b[0;34m.\u001b[0m\u001b[0mpath\u001b[0m\u001b[0;34m.\u001b[0m\u001b[0mjoin\u001b[0m\u001b[0;34m(\u001b[0m\u001b[0mbase_dir\u001b[0m\u001b[0;34m,\u001b[0m\u001b[0;34m's3cmtf_train.tensor'\u001b[0m\u001b[0;34m)\u001b[0m\u001b[0;34m\u001b[0m\u001b[0;34m\u001b[0m\u001b[0m\n\u001b[0;32m----> 4\u001b[0;31m     \u001b[0mmax_context_id\u001b[0m\u001b[0;34m,\u001b[0m\u001b[0mmax_user_id\u001b[0m\u001b[0;34m,\u001b[0m\u001b[0memb_dim\u001b[0m\u001b[0;34m,\u001b[0m\u001b[0mtrain_num_entries\u001b[0m \u001b[0;34m=\u001b[0m \u001b[0moutput_tensor\u001b[0m\u001b[0;34m(\u001b[0m\u001b[0mpairs\u001b[0m\u001b[0;34m+\u001b[0m\u001b[0mpairs_2\u001b[0m\u001b[0;34m,\u001b[0m\u001b[0mtensor_file\u001b[0m\u001b[0;34m)\u001b[0m\u001b[0;34m\u001b[0m\u001b[0;34m\u001b[0m\u001b[0m\n\u001b[0m\u001b[1;32m      5\u001b[0m \u001b[0;34m\u001b[0m\u001b[0m\n\u001b[1;32m      6\u001b[0m \u001b[0;34m\u001b[0m\u001b[0m\n",
      "\u001b[0;31mTypeError\u001b[0m: cannot unpack non-iterable NoneType object"
     ]
    }
   ],
   "source": [
    "\n",
    "base_dir='../../S3CMTF_code/src_data_200K_May_12/emb-pkl-files/aug_pca_30_factor+CMTF_40+rand_30_model_best_13_round_1/x2_no_pca'\n",
    "\n",
    "aug_file='x2_augmentation_ref_0.002.txt.emb.pkl'\n",
    "\n",
    "dim1,dim2,dim3=30,30,30\n",
    "num_thread=72\n",
    "user_feature_line='1 ../../../../src_data_200K_May_12/s3cmtf_user_feature_onehot.mat 9041 42709684\\n'\n",
    "context_feature_line='2 ../../../../src_data_200K_May_12/s3cmtf_context_emb.mat 768 30095616\\n'\n",
    "pickle_file='../../S3CMTF_code/src_data_200K_May_12/train_ref.txt.emb.pkl'\n",
    "pickle_file_2=os.path.join(base_dir,aug_file)\n",
    "pickle_file_3='../../S3CMTF_code/src_data_200K_May_12/val_ref.txt.emb.pkl'\n",
    "\n",
    "\n",
    "pairs,pairs_2=read_two_file(pickle_file,pickle_file_2)\n",
    "\n",
    "output_a_dir(pairs,pairs_2,base_dir,dim1,dim2,dim3,num_thread,user_feature_line,context_feature_line)\n",
    "\n",
    "# ./S3CMTF-opt s3cmtf_config.txt  s3cmtf_train.tensor s3cmtf_dev.tensor 30x30x30_0.0005_1_4 2 0.0005 1 4 100"
   ]
  },
  {
   "cell_type": "code",
   "execution_count": null,
   "metadata": {},
   "outputs": [],
   "source": [
    "500000000"
   ]
  }
 ],
 "metadata": {
  "kernelspec": {
   "display_name": "Python 3",
   "language": "python",
   "name": "python3"
  },
  "language_info": {
   "codemirror_mode": {
    "name": "ipython",
    "version": 3
   },
   "file_extension": ".py",
   "mimetype": "text/x-python",
   "name": "python",
   "nbconvert_exporter": "python",
   "pygments_lexer": "ipython3",
   "version": "3.7.4"
  }
 },
 "nbformat": 4,
 "nbformat_minor": 4
}

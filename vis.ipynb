{
 "cells": [
  {
   "cell_type": "markdown",
   "metadata": {},
   "source": [
    "# visualization of the embeddings"
   ]
  },
  {
   "cell_type": "code",
   "execution_count": 1,
   "metadata": {},
   "outputs": [],
   "source": [
    "# 1. load embeddings\n",
    "# 2. do tSNE and plot\n",
    "# 3. do it for many turns"
   ]
  },
  {
   "cell_type": "code",
   "execution_count": 12,
   "metadata": {},
   "outputs": [],
   "source": [
    "import os\n",
    "import numpy as np\n",
    "import matplotlib.pyplot as plt\n",
    "\n",
    "from matplotlib.ticker import NullFormatter\n",
    "from sklearn import manifold, datasets\n",
    "from time import time\n",
    "import tqdm"
   ]
  },
  {
   "cell_type": "code",
   "execution_count": 2,
   "metadata": {},
   "outputs": [],
   "source": [
    "# 1 load embeddings\n",
    "\n",
    "def load_embeddings(path,iter_num,prefix='FACTOR2'):\n",
    "    file_name=prefix+'_iter_{}'.format(int(iter_num))\n",
    "    file_path=os.path.join(path,file_name)\n",
    "    embs=[]\n",
    "    with open(file_path,'r') as fin:\n",
    "        for line in fin.readlines():\n",
    "            line=line.strip().split('\\t')\n",
    "            emb=[float(v) for v in line]\n",
    "            embs.append(emb)\n",
    "    return np.array(embs)\n",
    "            "
   ]
  },
  {
   "cell_type": "code",
   "execution_count": 4,
   "metadata": {},
   "outputs": [],
   "source": [
    "%matplotlib notebook"
   ]
  },
  {
   "cell_type": "code",
   "execution_count": 16,
   "metadata": {},
   "outputs": [],
   "source": [
    "# path='../S3CMTF_code/src_data_full_1M_PCA_dim_384/con_iter_200_15x30x20_0.0005_1_4-from-speaker-lr1e-3'\n",
    "path='../S3CMTF_code/src_data_full_1M_PCA_dim_384/result_opt_15x30x20_0.0005_1_4_200'\n",
    "iter_num=200\n",
    "prefix='FACTOR2'\n",
    "f2_1=load_embeddings(path,iter_num,prefix)"
   ]
  },
  {
   "cell_type": "code",
   "execution_count": 17,
   "metadata": {},
   "outputs": [
    {
     "name": "stdout",
     "output_type": "stream",
     "text": [
      "[t-SNE] Computing 301 nearest neighbors...\n",
      "[t-SNE] Indexed 4167 samples in 0.014s...\n",
      "[t-SNE] Computed neighbors for 4167 samples in 1.831s...\n",
      "[t-SNE] Computed conditional probabilities for sample 1000 / 4167\n",
      "[t-SNE] Computed conditional probabilities for sample 2000 / 4167\n",
      "[t-SNE] Computed conditional probabilities for sample 3000 / 4167\n",
      "[t-SNE] Computed conditional probabilities for sample 4000 / 4167\n",
      "[t-SNE] Computed conditional probabilities for sample 4167 / 4167\n",
      "[t-SNE] Mean sigma: 0.350364\n",
      "[t-SNE] KL divergence after 250 iterations with early exaggeration: 71.656372\n",
      "[t-SNE] KL divergence after 300 iterations: 2.271782\n",
      "perplexity=100 in 60 sec\n"
     ]
    }
   ],
   "source": [
    "# 2. tsne plotting\n",
    "\n",
    "n_samples = 300\n",
    "n_components = 2\n",
    "perplexity=100\n",
    "X = f2_1\n",
    "\n",
    "t0 = time()\n",
    "tsne = manifold.TSNE(n_components=n_components, init='random',\n",
    "                     random_state=0, perplexity=perplexity,n_iter=300,verbose=1,n_jobs=-1)\n",
    "Y = tsne.fit_transform(X)\n",
    "t1 = time()\n",
    "print(\"perplexity=%d in %.2g sec\" % (perplexity, t1 - t0))\n",
    "# ax.set_title(\"Perplexity=%d\" % perplexity)\n",
    "# ax.scatter(Y[red, 0], Y[red, 1], c=\"r\")\n",
    "# ax.scatter(Y[green, 0], Y[green, 1], c=\"g\")\n",
    "# ax.xaxis.set_major_formatter(NullFormatter())\n",
    "# ax.yaxis.set_major_formatter(NullFormatter())\n",
    "# ax.axis('tight')"
   ]
  },
  {
   "cell_type": "code",
   "execution_count": 18,
   "metadata": {},
   "outputs": [
    {
     "data": {
      "text/plain": [
       "Text(0.5, 1.0, '10 ppl')"
      ]
     },
     "execution_count": 18,
     "metadata": {},
     "output_type": "execute_result"
    },
    {
     "data": {
      "image/png": "[encoded data removed]",
      "text/plain": [
       "<Figure size 432x288 with 1 Axes>"
      ]
     },
     "metadata": {
      "needs_background": "light"
     },
     "output_type": "display_data"
    }
   ],
   "source": [
    "# plot\n",
    "plt.figure()\n",
    "plt.scatter(Y[:, 0], Y[:, 1])\n",
    "plt.title('10 ppl')"
   ]
  },
  {
   "cell_type": "code",
   "execution_count": 23,
   "metadata": {},
   "outputs": [],
   "source": [
    "# build data files that stores embs from different iters\n",
    "def build_embs_file_multiple_rounds(out_file,embs_list,rounds_list):\n",
    "    assert len(embs_list)==len(rounds_list)\n",
    "    embs_file=out_file+'_emb.tsv'\n",
    "    meta_file=out_file+'_meta.tsv'\n",
    "    meta_file_file_header='rounds\\tid\\n'\n",
    "    with open(embs_file,'w') as fout:\n",
    "        for embs in embs_list:\n",
    "            for line in embs:\n",
    "                for v in line:\n",
    "                    fout.write('{}\\t'.format(v))\n",
    "                fout.write('\\n')\n",
    "    with open(meta_file,'w') as fout:\n",
    "        fout.write(meta_file_file_header)\n",
    "        for round_ in rounds_list:\n",
    "            for i in range(embs_list[0].shape[0]):\n",
    "                fout.write('{}\\t{}\\n'.format(round_,i))\n",
    "    print('wrote to',embs_file)\n",
    "    print('wrote to',meta_file)\n",
    "    "
   ]
  },
  {
   "cell_type": "code",
   "execution_count": 24,
   "metadata": {},
   "outputs": [],
   "source": [
    "rounds_list=[1,5,10,20]\n",
    "path='../S3CMTF_code/src_data_full_1M_PCA_dim_384/con_iter_200_15x30x20_0.0005_1_4-from-speaker-lr1e-3'\n",
    "# path='../S3CMTF_code/src_data_full_1M_PCA_dim_384/result_opt_15x30x20_0.0005_1_4_200'\n",
    "embs_list=[]\n",
    "for iter_num in rounds_list:\n",
    "    prefix='FACTOR2'\n",
    "    embs=load_embeddings(path,iter_num,prefix)\n",
    "    embs_list.append(embs)"
   ]
  },
  {
   "cell_type": "code",
   "execution_count": 25,
   "metadata": {},
   "outputs": [
    {
     "name": "stdout",
     "output_type": "stream",
     "text": [
      "wrote to emb_file/con_iter_200_15x30x20_0.0005_1_4-from-speaker-lr1e-3_emb.tsv\n",
      "wrote to emb_file/con_iter_200_15x30x20_0.0005_1_4-from-speaker-lr1e-3_meta.tsv\n"
     ]
    }
   ],
   "source": [
    "out_file='emb_file/con_iter_200_15x30x20_0.0005_1_4-from-speaker-lr1e-3'\n",
    "build_embs_file_multiple_rounds(out_file,embs_list,rounds_list)"
   ]
  },
  {
   "cell_type": "code",
   "execution_count": 27,
   "metadata": {},
   "outputs": [],
   "source": [
    "rounds_list=[1,5,10,20,30]\n",
    "path='../S3CMTF_code/src_data_full_1M_PCA_dim_384/con_iter_200_15x30x20_0.0005_1_4-from-speaker-lr1e-3'\n",
    "# path='../S3CMTF_code/src_data_full_1M_PCA_dim_384/result_opt_15x30x20_0.0005_1_4_200'\n",
    "embs_list=[]\n",
    "num=2000\n",
    "for iter_num in rounds_list:\n",
    "    prefix='FACTOR2'\n",
    "    embs=load_embeddings(path,iter_num,prefix)\n",
    "    embs_list.append(embs[:num,:])\n",
    "\n",
    "out_file='emb_file/con_iter_200_15x30x20_0.0005_1_4-from-speaker-lr1e-3_2000'\n",
    "build_embs_file_multiple_rounds(out_file,embs_list,rounds_list)"
   ]
  },
  {
   "cell_type": "code",
   "execution_count": 28,
   "metadata": {},
   "outputs": [
    {
     "name": "stdout",
     "output_type": "stream",
     "text": [
      "wrote to emb_file/con_iter_200_15x30x20_0.0005_1_4-from-speaker-load-only-FACTOR2_2000_emb.tsv\n",
      "wrote to emb_file/con_iter_200_15x30x20_0.0005_1_4-from-speaker-load-only-FACTOR2_2000_meta.tsv\n"
     ]
    }
   ],
   "source": [
    "rounds_list=[1,5,10,20,30]\n",
    "path='../S3CMTF_code/src_data_full_1M_PCA_dim_384/con_iter_200_15x30x20_0.0005_1_4-from-speaker-load-only-FACTOR2'\n",
    "# path='../S3CMTF_code/src_data_full_1M_PCA_dim_384/result_opt_15x30x20_0.0005_1_4_200'\n",
    "embs_list=[]\n",
    "num=2000\n",
    "for iter_num in rounds_list:\n",
    "    prefix='FACTOR2'\n",
    "    embs=load_embeddings(path,iter_num,prefix)\n",
    "    embs_list.append(embs[:num,:])\n",
    "\n",
    "out_file='emb_file/con_iter_200_15x30x20_0.0005_1_4-from-speaker-load-only-FACTOR2_2000'\n",
    "build_embs_file_multiple_rounds(out_file,embs_list,rounds_list)"
   ]
  },
  {
   "cell_type": "code",
   "execution_count": null,
   "metadata": {},
   "outputs": [],
   "source": []
  }
 ],
 "metadata": {
  "kernelspec": {
   "display_name": "Python 3",
   "language": "python",
   "name": "python3"
  },
  "language_info": {
   "codemirror_mode": {
    "name": "ipython",
    "version": 3
   },
   "file_extension": ".py",
   "mimetype": "text/x-python",
   "name": "python",
   "nbconvert_exporter": "python",
   "pygments_lexer": "ipython3",
   "version": "3.6.9"
  }
 },
 "nbformat": 4,
 "nbformat_minor": 4
}
